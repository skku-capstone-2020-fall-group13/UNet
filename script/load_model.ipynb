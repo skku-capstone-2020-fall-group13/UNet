{
 "cells": [
  {
   "cell_type": "code",
   "execution_count": 9,
   "metadata": {},
   "outputs": [],
   "source": [
    "import os\n",
    "import torch\n",
    "\n",
    "import numpy as np\n",
    "from PIL import Image\n",
    "\n",
    "from unet import UnetPipeline\n",
    "from unet.util import cat_to_rgb"
   ]
  },
  {
   "cell_type": "code",
   "execution_count": 2,
   "metadata": {},
   "outputs": [],
   "source": [
    "device = torch.device('cuda')"
   ]
  },
  {
   "cell_type": "code",
   "execution_count": 3,
   "metadata": {},
   "outputs": [],
   "source": [
    "unet = UnetPipeline()\n",
    "unet.load('../model/model_bri_0112_copy_2_wei_3/', device=device)"
   ]
  },
  {
   "cell_type": "code",
   "execution_count": 4,
   "metadata": {},
   "outputs": [],
   "source": [
    "test_image = np.array(Image.open('../data/sat/SKKU_Photo5.png').convert('RGB'))[:,:,:3]"
   ]
  },
  {
   "cell_type": "code",
   "execution_count": 14,
   "metadata": {},
   "outputs": [
    {
     "name": "stdout",
     "output_type": "stream",
     "text": [
      "CPU times: user 3.33 s, sys: 4 ms, total: 3.33 s\n",
      "Wall time: 271 ms\n"
     ]
    }
   ],
   "source": [
    "%%time\n",
    "\n",
    "prediction = unet.predict(test_image, batch_size=512)"
   ]
  },
  {
   "cell_type": "code",
   "execution_count": 8,
   "metadata": {},
   "outputs": [
    {
     "data": {
      "text/plain": [
       "array([[8, 8, 8, ..., 6, 6, 6],\n",
       "       [8, 8, 8, ..., 6, 6, 6],\n",
       "       [1, 8, 8, ..., 6, 6, 6],\n",
       "       ...,\n",
       "       [6, 6, 6, ..., 6, 6, 6],\n",
       "       [6, 6, 6, ..., 6, 6, 6],\n",
       "       [6, 6, 6, ..., 6, 6, 6]])"
      ]
     },
     "execution_count": 8,
     "metadata": {},
     "output_type": "execute_result"
    }
   ],
   "source": [
    "prediction"
   ]
  },
  {
   "cell_type": "code",
   "execution_count": 11,
   "metadata": {},
   "outputs": [
    {
     "name": "stdout",
     "output_type": "stream",
     "text": [
      "CPU times: user 56 ms, sys: 0 ns, total: 56 ms\n",
      "Wall time: 57.1 ms\n"
     ]
    },
    {
     "data": {
      "text/plain": [
       "array([[[255, 255, 255],\n",
       "        [255, 255, 255],\n",
       "        [255, 255, 255],\n",
       "        ...,\n",
       "        [  0, 125,   0],\n",
       "        [  0, 125,   0],\n",
       "        [  0, 125,   0]],\n",
       "\n",
       "       [[255, 255, 255],\n",
       "        [255, 255, 255],\n",
       "        [255, 255, 255],\n",
       "        ...,\n",
       "        [  0, 125,   0],\n",
       "        [  0, 125,   0],\n",
       "        [  0, 125,   0]],\n",
       "\n",
       "       [[255, 255,   0],\n",
       "        [255, 255, 255],\n",
       "        [255, 255, 255],\n",
       "        ...,\n",
       "        [  0, 125,   0],\n",
       "        [  0, 125,   0],\n",
       "        [  0, 125,   0]],\n",
       "\n",
       "       ...,\n",
       "\n",
       "       [[  0, 125,   0],\n",
       "        [  0, 125,   0],\n",
       "        [  0, 125,   0],\n",
       "        ...,\n",
       "        [  0, 125,   0],\n",
       "        [  0, 125,   0],\n",
       "        [  0, 125,   0]],\n",
       "\n",
       "       [[  0, 125,   0],\n",
       "        [  0, 125,   0],\n",
       "        [  0, 125,   0],\n",
       "        ...,\n",
       "        [  0, 125,   0],\n",
       "        [  0, 125,   0],\n",
       "        [  0, 125,   0]],\n",
       "\n",
       "       [[  0, 125,   0],\n",
       "        [  0, 125,   0],\n",
       "        [  0, 125,   0],\n",
       "        ...,\n",
       "        [  0, 125,   0],\n",
       "        [  0, 125,   0],\n",
       "        [  0, 125,   0]]], dtype=uint8)"
      ]
     },
     "execution_count": 11,
     "metadata": {},
     "output_type": "execute_result"
    }
   ],
   "source": [
    "%%time\n",
    "\n",
    "cat_to_rgb(prediction)"
   ]
  },
  {
   "cell_type": "code",
   "execution_count": null,
   "metadata": {},
   "outputs": [],
   "source": []
  }
 ],
 "metadata": {
  "kernelspec": {
   "display_name": "Python 3.7.9 64-bit ('capstone-whitedelay': conda)",
   "language": "python",
   "name": "python37964bitcapstonewhitedelayconda2da4f4b8ab5d4da5971ea49c751cdf68"
  },
  "language_info": {
   "codemirror_mode": {
    "name": "ipython",
    "version": 3
   },
   "file_extension": ".py",
   "mimetype": "text/x-python",
   "name": "python",
   "nbconvert_exporter": "python",
   "pygments_lexer": "ipython3",
   "version": "3.7.9"
  }
 },
 "nbformat": 4,
 "nbformat_minor": 4
}
